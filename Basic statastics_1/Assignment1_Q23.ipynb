{
 "cells": [
  {
   "cell_type": "code",
   "execution_count": 1,
   "id": "ae8911ab",
   "metadata": {},
   "outputs": [],
   "source": [
    "from scipy import stats\n",
    "from scipy.stats import norm"
   ]
  },
  {
   "cell_type": "code",
   "execution_count": 6,
   "id": "2d24bfbc",
   "metadata": {},
   "outputs": [
    {
     "data": {
      "text/plain": [
       "1.6448536269514722"
      ]
     },
     "execution_count": 6,
     "metadata": {},
     "output_type": "execute_result"
    }
   ],
   "source": [
    "stats.norm.ppf(0.95)"
   ]
  },
  {
   "cell_type": "code",
   "execution_count": 7,
   "id": "e68b6b60",
   "metadata": {},
   "outputs": [
    {
     "data": {
      "text/plain": [
       "1.7506860712521692"
      ]
     },
     "execution_count": 7,
     "metadata": {},
     "output_type": "execute_result"
    }
   ],
   "source": [
    "stats.norm.ppf(0.96)"
   ]
  },
  {
   "cell_type": "code",
   "execution_count": 8,
   "id": "b8581955",
   "metadata": {},
   "outputs": [
    {
     "data": {
      "text/plain": [
       "2.3263478740408408"
      ]
     },
     "execution_count": 8,
     "metadata": {},
     "output_type": "execute_result"
    }
   ],
   "source": [
    "stats.norm.ppf(0.99)"
   ]
  },
  {
   "cell_type": "code",
   "execution_count": 5,
   "id": "4747f9bb",
   "metadata": {},
   "outputs": [
    {
     "data": {
      "text/plain": [
       "2.0638985616280205"
      ]
     },
     "execution_count": 5,
     "metadata": {},
     "output_type": "execute_result"
    }
   ],
   "source": [
    "# z-score of 95% confidence interval=1.64+0.95=2.59\n",
    "#(95+2.59=97.5)\n",
    "# df = n-1 = 24\n",
    "stats.t.ppf(0.975,24)"
   ]
  },
  {
   "cell_type": "code",
   "execution_count": 9,
   "id": "a44e477f",
   "metadata": {},
   "outputs": [
    {
     "data": {
      "text/plain": [
       "2.1715446760080677"
      ]
     },
     "execution_count": 9,
     "metadata": {},
     "output_type": "execute_result"
    }
   ],
   "source": [
    "# z-score of 96% confidence interval=1.75+0.96=2.7\n",
    "#(96+2.7=98.7)\n",
    "# df = n-1 = 24\n",
    "stats.t.ppf(0.98,24)"
   ]
  },
  {
   "cell_type": "code",
   "execution_count": 10,
   "id": "3e087391",
   "metadata": {},
   "outputs": [
    {
     "data": {
      "text/plain": [
       "2.796939504772804"
      ]
     },
     "execution_count": 10,
     "metadata": {},
     "output_type": "execute_result"
    }
   ],
   "source": [
    "# z-score of 96% confidence interval\n",
    "# df = n-1 = 24\n",
    "stats.t.ppf(0.995,24)"
   ]
  },
  {
   "cell_type": "code",
   "execution_count": null,
   "id": "e235a331",
   "metadata": {},
   "outputs": [],
   "source": []
  }
 ],
 "metadata": {
  "kernelspec": {
   "display_name": "Python 3 (ipykernel)",
   "language": "python",
   "name": "python3"
  },
  "language_info": {
   "codemirror_mode": {
    "name": "ipython",
    "version": 3
   },
   "file_extension": ".py",
   "mimetype": "text/x-python",
   "name": "python",
   "nbconvert_exporter": "python",
   "pygments_lexer": "ipython3",
   "version": "3.9.12"
  }
 },
 "nbformat": 4,
 "nbformat_minor": 5
}
