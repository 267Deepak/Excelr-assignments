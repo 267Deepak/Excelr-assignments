{
 "cells": [
  {
   "cell_type": "code",
   "execution_count": 9,
   "id": "7d7c84cb",
   "metadata": {},
   "outputs": [],
   "source": [
    "import numpy as np\n",
    "from scipy import stats\n",
    "from scipy.stats import norm"
   ]
  },
  {
   "cell_type": "code",
   "execution_count": 13,
   "id": "f0e19a26",
   "metadata": {},
   "outputs": [
    {
     "name": "stdout",
     "output_type": "stream",
     "text": [
      "Mean profit is Rs 540 Millions\n"
     ]
    }
   ],
   "source": [
    "#Q_A\n",
    "mean=5+7\n",
    "print(\"Mean profit is Rs\",mean*45,\"Millions\")"
   ]
  },
  {
   "cell_type": "code",
   "execution_count": 15,
   "id": "4648064d",
   "metadata": {},
   "outputs": [
    {
     "name": "stdout",
     "output_type": "stream",
     "text": [
      "Standard Deviation is Rs 225.0 Millions\n"
     ]
    }
   ],
   "source": [
    "SD = np.sqrt((9)+(16))\n",
    "print(\"Standard Deviation is Rs\",SD*45,\"Millions\")"
   ]
  },
  {
   "cell_type": "code",
   "execution_count": 17,
   "id": "876f6669",
   "metadata": {},
   "outputs": [
    {
     "name": "stdout",
     "output_type": "stream",
     "text": [
      "Range is Rs (99.00810347848784, 980.9918965215122) in Millions\n"
     ]
    }
   ],
   "source": [
    "#Range\n",
    "print(\"Range is Rs\",(stats.norm.interval(0.95,540,225)),\"in Millions\")"
   ]
  },
  {
   "cell_type": "code",
   "execution_count": 18,
   "id": "c5c91ce2",
   "metadata": {},
   "outputs": [
    {
     "name": "stdout",
     "output_type": "stream",
     "text": [
      "5th percentile of profit(in Million Rupees)is 170.0\n"
     ]
    }
   ],
   "source": [
    "#B.\tSpecify the 5th percentile of profit (in Rupees) for the company\n",
    "X = 540+(-1.645)*(225)\n",
    "print(\"5th percentile of profit(in Million Rupees)is\",np.round(X,))"
   ]
  },
  {
   "cell_type": "code",
   "execution_count": 19,
   "id": "aca900e0",
   "metadata": {},
   "outputs": [],
   "source": [
    "#C.\tWhich of the two divisions has a larger probability of making a loss in a given year?\n"
   ]
  },
  {
   "cell_type": "code",
   "execution_count": 20,
   "id": "97ab2ae7",
   "metadata": {},
   "outputs": [
    {
     "data": {
      "text/plain": [
       "0.0477903522728147"
      ]
     },
     "execution_count": 20,
     "metadata": {},
     "output_type": "execute_result"
    }
   ],
   "source": [
    "# Probability of division 1 making a loss P(X<0)\n",
    "stats.norm.cdf(0,5,3)"
   ]
  },
  {
   "cell_type": "code",
   "execution_count": 22,
   "id": "4ac16ea8",
   "metadata": {},
   "outputs": [
    {
     "data": {
      "text/plain": [
       "0.040059156863817086"
      ]
     },
     "execution_count": 22,
     "metadata": {},
     "output_type": "execute_result"
    }
   ],
   "source": [
    "# Probability of division 2 making a loss P(X<0)\n",
    "stats.norm.cdf(0,7,4)"
   ]
  },
  {
   "cell_type": "code",
   "execution_count": null,
   "id": "c07d0bf3",
   "metadata": {},
   "outputs": [],
   "source": []
  }
 ],
 "metadata": {
  "kernelspec": {
   "display_name": "Python 3 (ipykernel)",
   "language": "python",
   "name": "python3"
  },
  "language_info": {
   "codemirror_mode": {
    "name": "ipython",
    "version": 3
   },
   "file_extension": ".py",
   "mimetype": "text/x-python",
   "name": "python",
   "nbconvert_exporter": "python",
   "pygments_lexer": "ipython3",
   "version": "3.9.12"
  }
 },
 "nbformat": 4,
 "nbformat_minor": 5
}
